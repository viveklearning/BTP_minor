{
 "cells": [
  {
   "cell_type": "code",
   "execution_count": 4,
   "metadata": {},
   "outputs": [],
   "source": [
    "import cv2\n",
    "from deepface import DeepFace\n",
    "\n",
    "cap = cv2.VideoCapture(0)\n",
    "\n",
    "while True:\n",
    "    ret, frame = cap.read()\n",
    "    \n",
    "    try:\n",
    "        results = DeepFace.analyze(frame, actions=['emotion'], enforce_detection=False)\n",
    "        emotion = results[0]['dominant_emotion']\n",
    "        \n",
    "        # Display emotion on frame\n",
    "        cv2.putText(frame, f\"Emotion: {emotion}\", \n",
    "                    (10, 50), \n",
    "                    cv2.FONT_HERSHEY_SIMPLEX, \n",
    "                    1, (0, 255, 0), 2)\n",
    "    except Exception as e:\n",
    "        pass\n",
    "    \n",
    "    cv2.imshow('Real-Time Emotion Detection', frame)\n",
    "    \n",
    "    if cv2.waitKey(1) & 0xFF == ord('q'):\n",
    "        break\n",
    "\n",
    "cap.release()\n",
    "cv2.destroyAllWindows()"
   ]
  },
  {
   "cell_type": "code",
   "execution_count": null,
   "metadata": {},
   "outputs": [],
   "source": []
  }
 ],
 "metadata": {
  "kernelspec": {
   "display_name": ".venv",
   "language": "python",
   "name": "python3"
  },
  "language_info": {
   "codemirror_mode": {
    "name": "ipython",
    "version": 3
   },
   "file_extension": ".py",
   "mimetype": "text/x-python",
   "name": "python",
   "nbconvert_exporter": "python",
   "pygments_lexer": "ipython3",
   "version": "3.12.6"
  }
 },
 "nbformat": 4,
 "nbformat_minor": 2
}
