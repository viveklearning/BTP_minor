{
 "cells": [
  {
   "cell_type": "code",
   "execution_count": 7,
   "metadata": {},
   "outputs": [
    {
     "name": "stderr",
     "output_type": "stream",
     "text": [
      "c:\\Users\\Lenovo\\OneDrive\\Desktop\\btb_minor\\.venv\\Lib\\site-packages\\tqdm\\auto.py:21: TqdmWarning: IProgress not found. Please update jupyter and ipywidgets. See https://ipywidgets.readthedocs.io/en/stable/user_install.html\n",
      "  from .autonotebook import tqdm as notebook_tqdm\n"
     ]
    }
   ],
   "source": [
    "import pyaudio\n",
    "import whisper\n",
    "import numpy as np\n",
    "from transformers import pipeline\n",
    "\n"
   ]
  },
  {
   "cell_type": "code",
   "execution_count": 8,
   "metadata": {},
   "outputs": [
    {
     "name": "stderr",
     "output_type": "stream",
     "text": [
      "100%|███████████████████████████████████████| 139M/139M [00:25<00:00, 5.71MiB/s]\n",
      "c:\\Users\\Lenovo\\OneDrive\\Desktop\\btb_minor\\.venv\\Lib\\site-packages\\huggingface_hub\\file_download.py:139: UserWarning: `huggingface_hub` cache-system uses symlinks by default to efficiently store duplicated files but your machine does not support them in C:\\Users\\Lenovo\\.cache\\huggingface\\hub\\models--distilbert-base-uncased-finetuned-sst-2-english. Caching files will still work but in a degraded version that might require more space on your disk. This warning can be disabled by setting the `HF_HUB_DISABLE_SYMLINKS_WARNING` environment variable. For more details, see https://huggingface.co/docs/huggingface_hub/how-to-cache#limitations.\n",
      "To support symlinks on Windows, you either need to activate Developer Mode or to run Python as an administrator. In order to activate developer mode, see this article: https://docs.microsoft.com/en-us/windows/apps/get-started/enable-your-device-for-development\n",
      "  warnings.warn(message)\n"
     ]
    },
    {
     "name": "stdout",
     "output_type": "stream",
     "text": [
      "WARNING:tensorflow:From c:\\Users\\Lenovo\\OneDrive\\Desktop\\btb_minor\\.venv\\Lib\\site-packages\\tf_keras\\src\\losses.py:2976: The name tf.losses.sparse_softmax_cross_entropy is deprecated. Please use tf.compat.v1.losses.sparse_softmax_cross_entropy instead.\n",
      "\n"
     ]
    },
    {
     "name": "stderr",
     "output_type": "stream",
     "text": [
      "Device set to use cpu\n"
     ]
    }
   ],
   "source": [
    "# Load Whisper model for transcription\n",
    "speech_model = whisper.load_model(\"base\")\n",
    "\n",
    "# Load sentiment analysis model\n",
    "sentiment_model = pipeline(\"sentiment-analysis\", model=\"distilbert-base-uncased-finetuned-sst-2-english\")\n",
    "\n",
    "\n"
   ]
  },
  {
   "cell_type": "code",
   "execution_count": 9,
   "metadata": {},
   "outputs": [],
   "source": [
    "# Audio stream configuration\n",
    "FORMAT = pyaudio.paInt16\n",
    "CHANNELS = 1\n",
    "RATE = 16000\n",
    "CHUNK = 1024\n",
    "DEVICE_INDEX = 1  # Change to your device index if necessary\n",
    "\n"
   ]
  },
  {
   "cell_type": "code",
   "execution_count": 16,
   "metadata": {},
   "outputs": [
    {
     "name": "stdout",
     "output_type": "stream",
     "text": [
      "Listening...\n",
      "Transcribed Text: \n",
      "Transcribed Text: \n",
      "Transcribed Text: \n",
      "Transcribed Text: \n",
      "Transcribed Text: \n",
      "Stopping...\n"
     ]
    }
   ],
   "source": [
    "# Initialize pyaudio stream\n",
    "audio = pyaudio.PyAudio()\n",
    "stream = audio.open(format=FORMAT, channels=CHANNELS, rate=RATE, input=True, frames_per_buffer=CHUNK, input_device_index=DEVICE_INDEX)\n",
    "\n",
    "print(\"Listening...\")\n",
    "\n",
    "# Function to transcribe audio chunk to text using Whisper\n",
    "def transcribe_audio(audio_data):\n",
    "    result = speech_model.transcribe(audio_data)\n",
    "    return result['text']\n",
    "\n",
    "# Function to analyze sentiment of text\n",
    "def analyze_sentiment(text):\n",
    "    return sentiment_model(text)\n",
    "\n",
    "try:\n",
    "    while True:\n",
    "        # Read audio chunk from the microphone\n",
    "        data = stream.read(CHUNK)\n",
    "        audio_data = np.frombuffer(data, dtype=np.int16).astype(np.float32)\n",
    "        \n",
    "        # Convert the audio chunk to text using Whisper\n",
    "        transcribed_text = transcribe_audio(audio_data)\n",
    "        print(f\"Transcribed Text: {transcribed_text}\")\n",
    "\n",
    "        if transcribed_text.strip():  # Proceed if there is meaningful transcribed text\n",
    "            # Perform sentiment analysis on the transcribed text\n",
    "            sentiment = analyze_sentiment(transcribed_text)\n",
    "            print(f\"Sentiment: {sentiment[0]['label']} (Confidence: {sentiment[0]['score']:.2f})\")\n",
    "\n",
    "except KeyboardInterrupt:\n",
    "    print(\"Stopping...\")\n",
    "    stream.stop_stream()\n",
    "    stream.close()\n",
    "    audio.terminate()"
   ]
  },
  {
   "cell_type": "code",
   "execution_count": 15,
   "metadata": {},
   "outputs": [
    {
     "name": "stdout",
     "output_type": "stream",
     "text": [
      "Transcribed Text: \n",
      "Transcribed Text: \n",
      "Transcribed Text: \n",
      "Transcribed Text: \n",
      "Transcribed Text: \n",
      "Transcribed Text: \n",
      "Stopping...\n"
     ]
    }
   ],
   "source": []
  },
  {
   "cell_type": "code",
   "execution_count": null,
   "metadata": {},
   "outputs": [],
   "source": []
  }
 ],
 "metadata": {
  "kernelspec": {
   "display_name": ".venv",
   "language": "python",
   "name": "python3"
  },
  "language_info": {
   "codemirror_mode": {
    "name": "ipython",
    "version": 3
   },
   "file_extension": ".py",
   "mimetype": "text/x-python",
   "name": "python",
   "nbconvert_exporter": "python",
   "pygments_lexer": "ipython3",
   "version": "3.12.6"
  }
 },
 "nbformat": 4,
 "nbformat_minor": 2
}
